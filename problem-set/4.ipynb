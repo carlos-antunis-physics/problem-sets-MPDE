{
  "nbformat": 4,
  "nbformat_minor": 0,
  "metadata": {
    "colab": {
      "provenance": []
    },
    "kernelspec": {
      "name": "julia",
      "display_name": "Julia"
    },
    "language_info": {
      "name": "julia"
    }
  },
  "cells": [
    {
      "cell_type": "markdown",
      "source": [
        "# Homework 4 - [Fourier analysis](https://colab.research.google.com/drive/1Zpfe522IeZVgKQBzLx6h--YIVYJMbYkm?usp=sharing)\n",
        "\n",
        "Due date: May - 18\n",
        "\n",
        "Student: Carlos Antunis Bonfim da Silva Santos ([crlsantnys@gmail.com](mailto:crlsantnys@gmail.com))"
      ],
      "metadata": {
        "id": "CXfiaMwVHYwr"
      }
    },
    {
      "cell_type": "markdown",
      "source": [
        "## Exercise 1.\n",
        "\n",
        "### item a.\n",
        "\n",
        "Since the function is odd $a_n = 0$, then evaluating the other coordinates:\n",
        "\n",
        "$$\n",
        "  b_n = \\frac{2}{\\pi}\\int_{0}^{+\\pi} xsin(nx) dx = -2xcos(nx)/(n\\pi)|_{0}^{+\\pi} - \\frac{2}{\\pi}\\int_{0}^{+\\pi} cos(nx)/n dx = (-1)^{n + 1}\\frac{2}{n}\\text{,}\n",
        "$$\n",
        "\n",
        "thus, $x = \\sum_n (-1)^{n + 1} 2 sin(nx) / n$.\n",
        "\n",
        "### item b.\n",
        "\n",
        "Using the Parseval's relation:\n",
        "\n",
        "$$\n",
        "  \\sum_n 1/n^2 = 1/4 \\sum_n 4/n^2 = 1/4 \\sum_n ((-1)^{n + 1} 2 / n)^2 = \\frac{1}{4\\pi}\\int_{-\\pi}^{+\\pi} x^2 dx = \\frac{1}{2\\pi}\\int_{0}^{+\\pi} x^2 dx = \\frac{1}{2\\pi}x^3 / 3 |_0^\\pi = \\frac{\\pi^2}{6}\\text{.}\n",
        "$$"
      ],
      "metadata": {
        "id": "7aOivhK8HirQ"
      }
    },
    {
      "cell_type": "markdown",
      "source": [
        "## Exercise 2.\n",
        "\n",
        "### item a.\n",
        "\n",
        "Using the complex Fourier series:\n",
        "\n",
        "$$\n",
        "  exp(sx) = \\sum_{n = -\\infty}^{+\\infty} c_n exp(+inx)\\text{,}\n",
        "$$\n",
        "\n",
        "in which\n",
        "\n",
        "$$\n",
        "  c_n = \\int_{-\\pi}^{+\\pi} exp(-inx)exp(sx) dx / 2\\pi =\\\\ \\int_{-\\pi}^{+\\pi} exp((s - in)x) dx / 2\\pi =\\\\ exp((s - in) x) / 2\\pi(s - in) |_{-\\pi}^{+\\pi} =\\\\ (-1)^n\\frac{sinh(s\\pi)}{\\pi (s - in)} \\text{,}\n",
        "$$\n",
        "\n",
        "thus $exp(sx) = \\sum_{n = -\\infty}^{+\\infty} (-1)^n\\frac{sinh(s\\pi)}{\\pi (s - in)} exp(+inx)$.\n",
        "\n",
        "### item b.\n",
        "\n",
        "Using parseval's relation:\n",
        "\n",
        "$$\n",
        "  \\frac{1}{2\\pi s} sinh(2s\\pi) = \\frac{1}{2\\pi} \\int_{-\\pi}^{+\\pi} exp(2sx) dx = \\sum_{n = - \\infty}^{+\\infty} \\frac{sinh(sx)^2}{\\pi^2|s - in|^2} =\\\\ \\sum_{n = - \\infty}^{+\\infty} \\frac{sinh(sx)^2}{\\pi^2|s - in|^2} =\\\\ \\frac{sinh(sx)^2}{\\pi^2}\\sum_{n = - \\infty}^{+\\infty} \\frac{1}{(s^2 + n^2)}\\text{,}\n",
        "$$\n",
        "\n",
        "using $sinh(2x) = 2 sinh(x) cosh(x)$, we can obtain\n",
        "\n",
        "$$\n",
        "\\sum_{n = -\\infty}^{+\\infty} \\frac{1}{s^2 + n^2}= \\frac{\\pi}{s}cotgh(s\\pi)\\text{.}\n",
        "$$\n"
      ],
      "metadata": {
        "id": "JNebTqUHbKj4"
      }
    },
    {
      "cell_type": "markdown",
      "source": [
        "## Exercise 3.\n",
        "\n",
        "By the definition of $S_k$:\n",
        "\n",
        "$$\n",
        "  S_k S_l = \\sum_{m = -k}^{+k} \\left<exp(imx), S_l(\\cdot)\\right> exp(imx) / 2\\pi =\\\\ \\sum_{m = -k}^{+k} \\left<exp(imx), \\sum_{n = -l}^{+l} c_n exp(inx) \\right> exp(imx) / 2\\pi =\\\\ \\sum_{m = -k}^{+k}\\sum_{n = -l}^{+l} c_n \\left<exp(imx), exp(inx) \\right> exp(imx) / 2\\pi=\\\\  \\sum_{m = -k}^{+k}\\sum_{n = -l}^{+l} c_n 2\\pi\\delta_{m,n} exp(imx) / 2\\pi=\\\\  \\sum_{m = -min(k, l)}^{+min(k,l)} c_m exp(imx)=\\\\ S_{min(k,l)}\\text{,}\n",
        "$$\n",
        "\n",
        "since we don't suppose relations between $k$ and $l$, $S_kS_l = S_lS_k = S_{min(k,l)}$."
      ],
      "metadata": {
        "id": "YyqnYIJbnZOT"
      }
    }
  ]
}